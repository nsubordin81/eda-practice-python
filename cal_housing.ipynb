{
 "cells": [
  {
   "cell_type": "markdown",
   "metadata": {},
   "source": [
    "## Example From Hands On ML Book"
   ]
  },
  {
   "cell_type": "markdown",
   "metadata": {},
   "source": [
    "### Look At The Big Picture"
   ]
  },
  {
   "cell_type": "markdown",
   "metadata": {},
   "source": [
    "It helps to have a checklist of what you will go through and do. Example: \n",
    "* frame problem and look at big picture\n",
    "* get data\n",
    "* explore the data to get insights\n",
    "* prepare the data to better expose the underlying patterns to ML algorithms\n",
    "* explore many different models and shortlist the best ones\n",
    "* fine tune your models and combine them into a great solution\n",
    "* present your solution\n",
    "* launch, monitor, and maintain your system\n"
   ]
  },
  {
   "cell_type": "markdown",
   "metadata": {},
   "source": [
    "Big picture in this case is what is the objective? even though they might say they want a model, what they use it for is important and will have impact on how the problem is framed, what model is selected, performance metrics used and how much effort is spent tweaking the model.\n",
    "\n",
    "For this dataset and model we happen to know that the prediction of housing prices will be fed to another ML system with other signals in order to determine whether the area is worth looking into and the model accuracy will have a direct impact on company revenue.\n",
    "\n",
    "continue from here on next session: https://learning.oreilly.com/library/view/hands-on-machine-learning/9781098125967/ch02.html#:-:text=On%20the%20other,system%E2%80%99s%20performance%20drops."
   ]
  },
  {
   "cell_type": "code",
   "execution_count": null,
   "metadata": {},
   "outputs": [],
   "source": []
  },
  {
   "cell_type": "markdown",
   "metadata": {},
   "source": [
    "### Get The Data"
   ]
  },
  {
   "cell_type": "markdown",
   "metadata": {},
   "source": [
    "### Explore and visualize the data to gain insights"
   ]
  },
  {
   "cell_type": "markdown",
   "metadata": {},
   "source": [
    "### Prepare the data for machine learning algorithms"
   ]
  },
  {
   "cell_type": "markdown",
   "metadata": {},
   "source": [
    "### Select Model and train it"
   ]
  },
  {
   "cell_type": "markdown",
   "metadata": {},
   "source": [
    "### Fine tune your model"
   ]
  },
  {
   "cell_type": "markdown",
   "metadata": {},
   "source": [
    "### Present Solution"
   ]
  },
  {
   "cell_type": "markdown",
   "metadata": {},
   "source": [
    "### Launch, Monitor, Maintain Your System"
   ]
  },
  {
   "cell_type": "markdown",
   "metadata": {},
   "source": []
  }
 ],
 "metadata": {
  "kernelspec": {
   "display_name": "Python 3.9.12 ('eda-practice')",
   "language": "python",
   "name": "python3"
  },
  "language_info": {
   "codemirror_mode": {
    "name": "ipython",
    "version": 3
   },
   "file_extension": ".py",
   "mimetype": "text/x-python",
   "name": "python",
   "nbconvert_exporter": "python",
   "pygments_lexer": "ipython3",
   "version": "3.9.12"
  },
  "orig_nbformat": 4,
  "vscode": {
   "interpreter": {
    "hash": "9bebeae5201ea7acbe239cc76cfffc7acc916e1deeaea54ebf557905f069301d"
   }
  }
 },
 "nbformat": 4,
 "nbformat_minor": 2
}
